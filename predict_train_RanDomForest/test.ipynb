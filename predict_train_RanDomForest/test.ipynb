{
 "cells": [
  {
   "cell_type": "code",
   "execution_count": null,
   "id": "54122de3",
   "metadata": {},
   "outputs": [],
   "source": [
    "import pandas as pd\n",
    "import joblib\n",
    "from sklearn.model_selection import train_test_split\n",
    "from sklearn.metrics import accuracy_score, classification_report, confusion_matrix\n",
    "\n",
    "# Đọc dữ liệu\n",
    "data = pd.read_csv(r'D:\\MINI_Project\\DoAn3\\Data\\Students_Grading_Dataset_Biased.csv')\n",
    "\n",
    "# Tạo nhãn mục tiêu 'at_risk'\n",
    "data['at_risk'] = data['Grade'].apply(lambda x: 1 if x in ['D', 'F'] else 0)\n",
    "\n",
    "# Các đặc trưng đầu vào\n",
    "features = ['Gender', 'Age', 'Department', 'Attendance (%)', 'Study_Hours_per_Week', \n",
    "            'Extracurricular_Activities', 'Internet_Access_at_Home', 'Parent_Education_Level', \n",
    "            'Family_Income_Level', 'Stress_Level (1-10)', 'Sleep_Hours_per_Night']\n",
    "\n",
    "X = data[features]\n",
    "y = data['at_risk']\n",
    "\n",
    "# Tách tập train/test\n",
    "X_train, X_test, y_train, y_test = train_test_split(X, y, test_size=0.2, random_state=42)\n",
    "\n",
    "# Load mô hình đã huấn luyện\n",
    "model = joblib.load('student_at_risk_model.pkl')\n"
   ]
  },
  {
   "cell_type": "code",
   "execution_count": 2,
   "id": "9a4302dc",
   "metadata": {},
   "outputs": [
    {
     "name": "stdout",
     "output_type": "stream",
     "text": [
      "Độ chính xác: 0.70\n",
      "\n",
      "=== Classification Report ===\n",
      "              precision    recall  f1-score   support\n",
      "\n",
      "           0       0.72      0.86      0.78       639\n",
      "           1       0.62      0.41      0.50       361\n",
      "\n",
      "    accuracy                           0.70      1000\n",
      "   macro avg       0.67      0.64      0.64      1000\n",
      "weighted avg       0.69      0.70      0.68      1000\n",
      "\n",
      "\n",
      "=== Confusion Matrix ===\n",
      "[[549  90]\n",
      " [212 149]]\n"
     ]
    }
   ],
   "source": [
    "# Dự đoán trên tập kiểm tra\n",
    "y_pred = model.predict(X_test)\n",
    "\n",
    "# Tính độ chính xác\n",
    "print(f\"Độ chính xác: {accuracy_score(y_test, y_pred):.2f}\")\n",
    "\n",
    "# Báo cáo chi tiết\n",
    "print(\"\\n=== Classification Report ===\")\n",
    "print(classification_report(y_test, y_pred))\n",
    "\n",
    "# Ma trận nhầm lẫn\n",
    "print(\"\\n=== Confusion Matrix ===\")\n",
    "print(confusion_matrix(y_test, y_pred))\n"
   ]
  },
  {
   "cell_type": "code",
   "execution_count": null,
   "id": "cc8c0047",
   "metadata": {},
   "outputs": [],
   "source": []
  }
 ],
 "metadata": {
  "kernelspec": {
   "display_name": "venv",
   "language": "python",
   "name": "python3"
  },
  "language_info": {
   "codemirror_mode": {
    "name": "ipython",
    "version": 3
   },
   "file_extension": ".py",
   "mimetype": "text/x-python",
   "name": "python",
   "nbconvert_exporter": "python",
   "pygments_lexer": "ipython3",
   "version": "3.13.5"
  }
 },
 "nbformat": 4,
 "nbformat_minor": 5
}
