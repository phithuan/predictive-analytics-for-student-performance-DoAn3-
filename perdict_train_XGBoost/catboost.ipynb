{
 "cells": [
  {
   "cell_type": "code",
   "execution_count": null,
   "id": "86e22b80",
   "metadata": {},
   "outputs": [
    {
     "name": "stdout",
     "output_type": "stream",
     "text": [
      "Learning rate set to 0.084924\n",
      "0:\tlearn: 1.3114782\ttotal: 73.6ms\tremaining: 1m 13s\n",
      "100:\tlearn: 0.7065778\ttotal: 6.06s\tremaining: 53.9s\n",
      "200:\tlearn: 0.6278538\ttotal: 12.1s\tremaining: 48.2s\n",
      "300:\tlearn: 0.5602118\ttotal: 18.4s\tremaining: 42.6s\n",
      "400:\tlearn: 0.5035436\ttotal: 24.9s\tremaining: 37.2s\n",
      "500:\tlearn: 0.4546906\ttotal: 31.3s\tremaining: 31.2s\n",
      "600:\tlearn: 0.4158889\ttotal: 37.9s\tremaining: 25.2s\n",
      "700:\tlearn: 0.3815534\ttotal: 49.4s\tremaining: 21.1s\n",
      "800:\tlearn: 0.3489834\ttotal: 56.8s\tremaining: 14.1s\n",
      "900:\tlearn: 0.3214522\ttotal: 1m 3s\tremaining: 7.03s\n",
      "999:\tlearn: 0.2966206\ttotal: 1m 10s\tremaining: 0us\n"
     ]
    },
    {
     "data": {
      "text/plain": [
       "<catboost.core.CatBoostClassifier at 0x1ec3b42f360>"
      ]
     },
     "execution_count": 6,
     "metadata": {},
     "output_type": "execute_result"
    }
   ],
   "source": [
    "import pandas as pd\n",
    "from sklearn.model_selection import train_test_split\n",
    "from sklearn.metrics import classification_report, confusion_matrix\n",
    "from catboost import CatBoostClassifier\n",
    "import seaborn as sns\n",
    "import matplotlib.pyplot as plt\n",
    "\n",
    "# Đọc dữ liệu\n",
    "df = pd.read_csv(r'D:\\MINI_Project\\DoAn3\\perdict_train_XGBoost\\students_grading_dataset_clean.csv')\n",
    "\n",
    "# Loại bỏ các cột không cần thiết\n",
    "df.drop(['Student_ID','First_Name','Last_Name','Email','Midterm_Score',\n",
    "         'Final_Score','Projects_Score','Total_Score'],\n",
    "        axis=1, inplace=True)\n",
    "\n",
    "# Tách X, y\n",
    "X = df.drop('Grade', axis=1)\n",
    "y = df['Grade']\n",
    "\n",
    "# Xác định các cột phân loại\n",
    "cat_features = X.select_dtypes(include='object').columns.tolist()\n",
    "#print(\"Categorical features:\", cat_features)\n",
    "\n",
    "# Chia dữ liệu\n",
    "X_train, X_test, y_train, y_test = train_test_split(X, y, test_size=0.2, random_state=42)\n",
    "\n",
    "\"\"\"# Khởi tạo và huấn luyện mô hình\n",
    "model = CatBoostClassifier(\n",
    "    iterations=100,\n",
    "    learning_rate=0.1,\n",
    "    depth=6,\n",
    "    verbose=0\n",
    ")\"\"\"\n",
    "\"\"\"model = CatBoostClassifier(\n",
    "    iterations=500,\n",
    "    learning_rate=0.05,\n",
    "    depth=6,\n",
    "    l2_leaf_reg=3.0,\n",
    "    random_seed=42,\n",
    "    class_weights=class_weights,\n",
    "    verbose=100\n",
    ")\"\"\"\n",
    "model = CatBoostClassifier(verbose=100) #Bắt đầu với giá trị mặc định → test\n",
    "\n",
    "\n",
    "model.fit(X_train, y_train, cat_features=cat_features)\n",
    "\n"
   ]
  },
  {
   "cell_type": "code",
   "execution_count": 7,
   "id": "97fc49e7",
   "metadata": {},
   "outputs": [
    {
     "name": "stdout",
     "output_type": "stream",
     "text": [
      "\n",
      "Classification Report:\n",
      "              precision    recall  f1-score   support\n",
      "\n",
      "           A       0.00      0.00      0.00        32\n",
      "           B       0.60      0.71      0.65       557\n",
      "           C       0.51      0.43      0.47       405\n",
      "           D       0.00      0.00      0.00         6\n",
      "\n",
      "    accuracy                           0.57      1000\n",
      "   macro avg       0.28      0.29      0.28      1000\n",
      "weighted avg       0.54      0.57      0.55      1000\n",
      "\n"
     ]
    },
    {
     "name": "stderr",
     "output_type": "stream",
     "text": [
      "d:\\MINI_Project\\DoAn3\\venv\\Lib\\site-packages\\sklearn\\metrics\\_classification.py:1565: UndefinedMetricWarning: Precision is ill-defined and being set to 0.0 in labels with no predicted samples. Use `zero_division` parameter to control this behavior.\n",
      "  _warn_prf(average, modifier, f\"{metric.capitalize()} is\", len(result))\n",
      "d:\\MINI_Project\\DoAn3\\venv\\Lib\\site-packages\\sklearn\\metrics\\_classification.py:1565: UndefinedMetricWarning: Precision is ill-defined and being set to 0.0 in labels with no predicted samples. Use `zero_division` parameter to control this behavior.\n",
      "  _warn_prf(average, modifier, f\"{metric.capitalize()} is\", len(result))\n",
      "d:\\MINI_Project\\DoAn3\\venv\\Lib\\site-packages\\sklearn\\metrics\\_classification.py:1565: UndefinedMetricWarning: Precision is ill-defined and being set to 0.0 in labels with no predicted samples. Use `zero_division` parameter to control this behavior.\n",
      "  _warn_prf(average, modifier, f\"{metric.capitalize()} is\", len(result))\n"
     ]
    }
   ],
   "source": [
    "# Dự đoán\n",
    "y_pred = model.predict(X_test)\n",
    "\n",
    "# Đánh giá\n",
    "print(\"\\nClassification Report:\")\n",
    "print(classification_report(y_test, y_pred))\n"
   ]
  },
  {
   "cell_type": "code",
   "execution_count": null,
   "id": "cef4370c",
   "metadata": {},
   "outputs": [
    {
     "name": "stdout",
     "output_type": "stream",
     "text": [
      "\n",
      "=== 📊 Classification Report ===\n",
      "              precision    recall  f1-score   support\n",
      "\n",
      "           A       0.00      0.00      0.00        31\n",
      "           B       0.61      0.76      0.68       562\n",
      "           C       0.54      0.41      0.46       399\n",
      "           D       0.00      0.00      0.00         8\n",
      "\n",
      "    accuracy                           0.59      1000\n",
      "   macro avg       0.29      0.29      0.29      1000\n",
      "weighted avg       0.56      0.59      0.57      1000\n",
      "\n"
     ]
    }
   ],
   "source": [
    "import pandas as pd\n",
    "from sklearn.model_selection import train_test_split\n",
    "from sklearn.metrics import classification_report\n",
    "from catboost import CatBoostClassifier\n",
    "\n",
    "# 1. Đọc dữ liệu\n",
    "df = pd.read_csv(r'D:\\MINI_Project\\DoAn3\\perdict_train_XGBoost\\students_grading_dataset_clean.csv')\n",
    "\n",
    "# 2. Loại bỏ các cột không cần thiết\n",
    "df.drop(['Student_ID','First_Name','Last_Name','Email','Midterm_Score',\n",
    "         'Final_Score','Projects_Score','Total_Score'],\n",
    "        axis=1, inplace=True)\n",
    "\n",
    "# 3. Tách X, y\n",
    "X = df.drop('Grade', axis=1)\n",
    "y = df['Grade']\n",
    "\n",
    "# 4. Xác định cột phân loại (categorical)\n",
    "cat_features = X.select_dtypes(include='object').columns.tolist()\n",
    "\n",
    "# 5. Chia tập train/test\n",
    "X_train, X_test, y_train, y_test = train_test_split(\n",
    "    X, y, test_size=0.2, random_state=42, stratify=y\n",
    ")\n",
    "\n",
    "# 6. Tăng trọng số cho các lớp thiểu số (Grade A = 0, D = 3 nếu bạn dùng label encode trước đó)\n",
    "# ⚠️ Nếu chưa dùng LabelEncoder, bạn có thể dùng map như sau:\n",
    "label_map = {'A': 0, 'B': 1, 'C': 2, 'D': 3}\n",
    "y_train = y_train.map(label_map)\n",
    "y_test = y_test.map(label_map)\n",
    "\n",
    "# 7. Thiết lập trọng số (class_weights)\n",
    "# Giá trị lớn hơn → mô hình học kỹ hơn lớp đó\n",
    "class_weights = [5.0, 1.0, 1.0, 10.0]  # A và D được ưu tiên\n",
    "\n",
    "# 8. Huấn luyện mô hình với siêu tham số điều chỉnh\n",
    "\n",
    "# Khởi tạo và huấn luyện mô hình\n",
    "# Khởi tạo và huấn luyện mô hình\n",
    "model = CatBoostClassifier(\n",
    "    iterations=100,          # Số vòng lặp (số cây sẽ xây dựng). Giá trị càng cao thì mô hình càng học kỹ, nhưng có nguy cơ overfit nếu quá lớn.\n",
    "    \n",
    "    learning_rate=0.1,       # Tốc độ học. Giá trị nhỏ giúp mô hình học từ từ, chính xác hơn nhưng cần nhiều iterations hơn. Giá trị lớn học nhanh hơn nhưng có nguy cơ bỏ qua thông tin quan trọng.\n",
    "    \n",
    "    depth=6,                 # Độ sâu của mỗi cây quyết định. Độ sâu cao giúp mô hình học được quan hệ phức tạp nhưng dễ bị overfit. Thường chọn từ 4 đến 10.\n",
    "    \n",
    "    verbose=0,               # Không hiển thị log trong quá trình huấn luyện (0 = im lặng, 100 = hiển thị mỗi 100 vòng lặp, v.v.). Nếu bạn muốn theo dõi tiến trình, hãy đổi thành `verbose=100`.\n",
    "    \n",
    "    class_weights=class_weights  # Danh sách trọng số cho từng lớp. Dùng để xử lý mất cân bằng dữ liệu. Lớp ít mẫu nên có trọng số cao hơn để mô hình ưu tiên học.\n",
    ")\n",
    "\n",
    "\n",
    "# 9. Fit model\n",
    "model.fit(X_train, y_train, cat_features=cat_features)\n",
    "\n",
    "# 10. Dự đoán\n",
    "y_pred = model.predict(X_test)\n",
    "\n",
    "# 11. Báo cáo kết quả\n",
    "from sklearn.metrics import classification_report\n",
    "\n",
    "label_names = ['A', 'B', 'C', 'D']\n",
    "print(\"\\n=== 📊 Classification Report ===\")\n",
    "print(classification_report(y_test, y_pred, target_names=label_names))\n"
   ]
  },
  {
   "cell_type": "code",
   "execution_count": null,
   "id": "2c0fa600",
   "metadata": {},
   "outputs": [],
   "source": []
  }
 ],
 "metadata": {
  "kernelspec": {
   "display_name": "venv",
   "language": "python",
   "name": "python3"
  },
  "language_info": {
   "codemirror_mode": {
    "name": "ipython",
    "version": 3
   },
   "file_extension": ".py",
   "mimetype": "text/x-python",
   "name": "python",
   "nbconvert_exporter": "python",
   "pygments_lexer": "ipython3",
   "version": "3.13.5"
  }
 },
 "nbformat": 4,
 "nbformat_minor": 5
}
