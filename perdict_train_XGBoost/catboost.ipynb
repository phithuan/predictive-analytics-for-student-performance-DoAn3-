{
 "cells": [
  {
   "cell_type": "markdown",
   "id": "d24e0faf",
   "metadata": {},
   "source": [
    "# mô hình catboost chưa turning"
   ]
  },
  {
   "cell_type": "code",
   "execution_count": null,
   "id": "86e22b80",
   "metadata": {},
   "outputs": [
    {
     "name": "stdout",
     "output_type": "stream",
     "text": [
      "Learning rate set to 0.084924\n",
      "0:\tlearn: 1.3114782\ttotal: 73.6ms\tremaining: 1m 13s\n",
      "100:\tlearn: 0.7065778\ttotal: 6.06s\tremaining: 53.9s\n",
      "200:\tlearn: 0.6278538\ttotal: 12.1s\tremaining: 48.2s\n",
      "300:\tlearn: 0.5602118\ttotal: 18.4s\tremaining: 42.6s\n",
      "400:\tlearn: 0.5035436\ttotal: 24.9s\tremaining: 37.2s\n",
      "500:\tlearn: 0.4546906\ttotal: 31.3s\tremaining: 31.2s\n",
      "600:\tlearn: 0.4158889\ttotal: 37.9s\tremaining: 25.2s\n",
      "700:\tlearn: 0.3815534\ttotal: 49.4s\tremaining: 21.1s\n",
      "800:\tlearn: 0.3489834\ttotal: 56.8s\tremaining: 14.1s\n",
      "900:\tlearn: 0.3214522\ttotal: 1m 3s\tremaining: 7.03s\n",
      "999:\tlearn: 0.2966206\ttotal: 1m 10s\tremaining: 0us\n"
     ]
    },
    {
     "data": {
      "text/plain": [
       "<catboost.core.CatBoostClassifier at 0x1ec3b42f360>"
      ]
     },
     "execution_count": 6,
     "metadata": {},
     "output_type": "execute_result"
    }
   ],
   "source": [
    "import pandas as pd\n",
    "from sklearn.model_selection import train_test_split\n",
    "from sklearn.metrics import classification_report, confusion_matrix\n",
    "from catboost import CatBoostClassifier\n",
    "import seaborn as sns\n",
    "import matplotlib.pyplot as plt\n",
    "\n",
    "# Đọc dữ liệu\n",
    "df = pd.read_csv(r'D:\\MINI_Project\\DoAn3\\perdict_train_XGBoost\\students_grading_dataset_clean.csv')\n",
    "\n",
    "# Loại bỏ các cột không cần thiết\n",
    "df.drop(['Student_ID','First_Name','Last_Name','Email','Midterm_Score',\n",
    "         'Final_Score','Projects_Score','Total_Score'],\n",
    "        axis=1, inplace=True)\n",
    "\n",
    "# Tách X, y\n",
    "X = df.drop('Grade', axis=1)\n",
    "y = df['Grade']\n",
    "\n",
    "# Xác định các cột phân loại\n",
    "cat_features = X.select_dtypes(include='object').columns.tolist()\n",
    "#print(\"Categorical features:\", cat_features)\n",
    "\n",
    "# Chia dữ liệu\n",
    "X_train, X_test, y_train, y_test = train_test_split(X, y, test_size=0.2, random_state=42)\n",
    "\n",
    "\"\"\"# Khởi tạo và huấn luyện mô hình\n",
    "model = CatBoostClassifier(\n",
    "    iterations=100,\n",
    "    learning_rate=0.1,\n",
    "    depth=6,\n",
    "    verbose=0\n",
    ")\"\"\"\n",
    "\"\"\"model = CatBoostClassifier(\n",
    "    iterations=500,\n",
    "    learning_rate=0.05,\n",
    "    depth=6,\n",
    "    l2_leaf_reg=3.0,\n",
    "    random_seed=42,\n",
    "    class_weights=class_weights,\n",
    "    verbose=100\n",
    ")\"\"\"\n",
    "model = CatBoostClassifier(verbose=100) #Bắt đầu với giá trị mặc định → test\n",
    "\n",
    "\n",
    "model.fit(X_train, y_train, cat_features=cat_features)\n",
    "\n"
   ]
  },
  {
   "cell_type": "code",
   "execution_count": 7,
   "id": "97fc49e7",
   "metadata": {},
   "outputs": [
    {
     "name": "stdout",
     "output_type": "stream",
     "text": [
      "\n",
      "Classification Report:\n",
      "              precision    recall  f1-score   support\n",
      "\n",
      "           A       0.00      0.00      0.00        32\n",
      "           B       0.60      0.71      0.65       557\n",
      "           C       0.51      0.43      0.47       405\n",
      "           D       0.00      0.00      0.00         6\n",
      "\n",
      "    accuracy                           0.57      1000\n",
      "   macro avg       0.28      0.29      0.28      1000\n",
      "weighted avg       0.54      0.57      0.55      1000\n",
      "\n"
     ]
    },
    {
     "name": "stderr",
     "output_type": "stream",
     "text": [
      "d:\\MINI_Project\\DoAn3\\venv\\Lib\\site-packages\\sklearn\\metrics\\_classification.py:1565: UndefinedMetricWarning: Precision is ill-defined and being set to 0.0 in labels with no predicted samples. Use `zero_division` parameter to control this behavior.\n",
      "  _warn_prf(average, modifier, f\"{metric.capitalize()} is\", len(result))\n",
      "d:\\MINI_Project\\DoAn3\\venv\\Lib\\site-packages\\sklearn\\metrics\\_classification.py:1565: UndefinedMetricWarning: Precision is ill-defined and being set to 0.0 in labels with no predicted samples. Use `zero_division` parameter to control this behavior.\n",
      "  _warn_prf(average, modifier, f\"{metric.capitalize()} is\", len(result))\n",
      "d:\\MINI_Project\\DoAn3\\venv\\Lib\\site-packages\\sklearn\\metrics\\_classification.py:1565: UndefinedMetricWarning: Precision is ill-defined and being set to 0.0 in labels with no predicted samples. Use `zero_division` parameter to control this behavior.\n",
      "  _warn_prf(average, modifier, f\"{metric.capitalize()} is\", len(result))\n"
     ]
    }
   ],
   "source": [
    "# Dự đoán\n",
    "y_pred = model.predict(X_test)\n",
    "\n",
    "# Đánh giá\n",
    "print(\"\\nClassification Report:\")\n",
    "print(classification_report(y_test, y_pred))\n"
   ]
  },
  {
   "cell_type": "markdown",
   "id": "8398e5d9",
   "metadata": {},
   "source": [
    "# mô hình đã chỉnh sơ sơ các siêu tham số"
   ]
  },
  {
   "cell_type": "code",
   "execution_count": null,
   "id": "cef4370c",
   "metadata": {},
   "outputs": [
    {
     "name": "stdout",
     "output_type": "stream",
     "text": [
      "\n",
      "=== 📊 Classification Report ===\n",
      "              precision    recall  f1-score   support\n",
      "\n",
      "           A       0.00      0.00      0.00        31\n",
      "           B       0.61      0.76      0.68       562\n",
      "           C       0.54      0.41      0.46       399\n",
      "           D       0.00      0.00      0.00         8\n",
      "\n",
      "    accuracy                           0.59      1000\n",
      "   macro avg       0.29      0.29      0.29      1000\n",
      "weighted avg       0.56      0.59      0.57      1000\n",
      "\n"
     ]
    }
   ],
   "source": [
    "import pandas as pd\n",
    "from sklearn.model_selection import train_test_split\n",
    "from sklearn.metrics import classification_report\n",
    "from catboost import CatBoostClassifier\n",
    "\n",
    "# 1. Đọc dữ liệu\n",
    "df = pd.read_csv(r'D:\\MINI_Project\\DoAn3\\perdict_train_XGBoost\\students_grading_dataset_clean.csv')\n",
    "\n",
    "# 2. Loại bỏ các cột không cần thiết\n",
    "df.drop(['Student_ID','First_Name','Last_Name','Email','Midterm_Score',\n",
    "         'Final_Score','Projects_Score','Total_Score'],\n",
    "        axis=1, inplace=True)\n",
    "\n",
    "# 3. Tách X, y\n",
    "X = df.drop('Grade', axis=1)\n",
    "y = df['Grade']\n",
    "\n",
    "# 4. Xác định cột phân loại (categorical)\n",
    "cat_features = X.select_dtypes(include='object').columns.tolist()\n",
    "\n",
    "# 5. Chia tập train/test\n",
    "X_train, X_test, y_train, y_test = train_test_split(\n",
    "    X, y, test_size=0.2, random_state=42, stratify=y\n",
    ")\n",
    "\n",
    "# 6. Tăng trọng số cho các lớp thiểu số (Grade A = 0, D = 3 nếu bạn dùng label encode trước đó)\n",
    "# ⚠️ Nếu chưa dùng LabelEncoder, bạn có thể dùng map như sau:\n",
    "label_map = {'A': 0, 'B': 1, 'C': 2, 'D': 3}\n",
    "y_train = y_train.map(label_map)\n",
    "y_test = y_test.map(label_map)\n",
    "\n",
    "# 7. Thiết lập trọng số (class_weights)\n",
    "# Giá trị lớn hơn → mô hình học kỹ hơn lớp đó\n",
    "class_weights = [5.0, 1.0, 1.0, 10.0]  # A và D được ưu tiên\n",
    "\n",
    "# 8. Huấn luyện mô hình với siêu tham số điều chỉnh\n",
    "\n",
    "# Khởi tạo và huấn luyện mô hình\n",
    "# Khởi tạo và huấn luyện mô hình\n",
    "model = CatBoostClassifier(\n",
    "    iterations=100,          # Số vòng lặp (số cây sẽ xây dựng). Giá trị càng cao thì mô hình càng học kỹ, nhưng có nguy cơ overfit nếu quá lớn.\n",
    "    \n",
    "    learning_rate=0.1,       # Tốc độ học. Giá trị nhỏ giúp mô hình học từ từ, chính xác hơn nhưng cần nhiều iterations hơn. Giá trị lớn học nhanh hơn nhưng có nguy cơ bỏ qua thông tin quan trọng.\n",
    "    \n",
    "    depth=6,                 # Độ sâu của mỗi cây quyết định. Độ sâu cao giúp mô hình học được quan hệ phức tạp nhưng dễ bị overfit. Thường chọn từ 4 đến 10.\n",
    "    \n",
    "    verbose=0,               # Không hiển thị log trong quá trình huấn luyện (0 = im lặng, 100 = hiển thị mỗi 100 vòng lặp, v.v.). Nếu bạn muốn theo dõi tiến trình, hãy đổi thành `verbose=100`.\n",
    "    \n",
    "    class_weights=class_weights  # Danh sách trọng số cho từng lớp. Dùng để xử lý mất cân bằng dữ liệu. Lớp ít mẫu nên có trọng số cao hơn để mô hình ưu tiên học.\n",
    ")\n",
    "\n",
    "\n",
    "# 9. Fit model\n",
    "model.fit(X_train, y_train, cat_features=cat_features)\n",
    "\n",
    "# 10. Dự đoán\n",
    "y_pred = model.predict(X_test)\n",
    "\n",
    "# 11. Báo cáo kết quả\n",
    "from sklearn.metrics import classification_report\n",
    "\n",
    "label_names = ['A', 'B', 'C', 'D']\n",
    "print(\"\\n=== 📊 Classification Report ===\")\n",
    "print(classification_report(y_test, y_pred, target_names=label_names))\n"
   ]
  },
  {
   "cell_type": "markdown",
   "id": "56677585",
   "metadata": {},
   "source": [
    "# tuning siêu tham số cho mô hình CatBoostRegressor bằng RandomizedSearchCV\n",
    "\n"
   ]
  },
  {
   "cell_type": "code",
   "execution_count": 2,
   "id": "2c0fa600",
   "metadata": {},
   "outputs": [],
   "source": [
    "# set-up grind Search Functions\n",
    "from sklearn.model_selection import RandomizedSearchCV\n",
    "from sklearn.metrics import max_error, r2_score, root_mean_squared_error, mean_absolute_error, max_error"
   ]
  },
  {
   "cell_type": "markdown",
   "id": "5576115c",
   "metadata": {},
   "source": [
    "## hàm đánh giá mô hình"
   ]
  },
  {
   "cell_type": "code",
   "execution_count": 3,
   "id": "40782899",
   "metadata": {},
   "outputs": [],
   "source": [
    "from sklearn.metrics import accuracy_score, f1_score, classification_report\n",
    "def evaluate_model(model, X_test, y_test):\n",
    "    y_pred = model.predict(X_test)\n",
    "    acc = accuracy_score(y_test, y_pred)\n",
    "    f1 = f1_score(y_test, y_pred, average='weighted')\n",
    "    print(\"=== 📊 Evaluation Report ===\")\n",
    "    print(classification_report(y_test, y_pred, target_names=['A', 'B', 'C', 'D']))\n",
    "    return acc, f1\n"
   ]
  },
  {
   "cell_type": "markdown",
   "id": "a334e0d5",
   "metadata": {},
   "source": [
    "## RandomizedSearchCV để chọn siêu tham số"
   ]
  },
  {
   "cell_type": "code",
   "execution_count": 4,
   "id": "52f3c885",
   "metadata": {},
   "outputs": [],
   "source": [
    "from catboost import CatBoostClassifier\n",
    "from sklearn.model_selection import RandomizedSearchCV\n",
    "\n",
    "def randomized_search_catboost(X_train, y_train, categorical_features):\n",
    "    model = CatBoostClassifier(\n",
    "        loss_function='MultiClass',\n",
    "        random_state=42,\n",
    "        verbose=0,\n",
    "        class_weights=[5.0, 1.0, 1.0, 10.0]  # Cân bằng lớp\n",
    "    )\n",
    "\n",
    "    # Tập siêu tham số cần thử\n",
    "    param_grid = {\n",
    "        'iterations': [100, 300, 500],\n",
    "        'learning_rate': [0.01, 0.05, 0.1, 0.2],\n",
    "        'depth': [4, 6, 8, 10],\n",
    "        'l2_leaf_reg': [1, 3, 5, 7],\n",
    "        'border_count': [32, 64, 128]\n",
    "    }\n",
    "\n",
    "    # RandomizedSearchCV\n",
    "    random_search = RandomizedSearchCV(\n",
    "        estimator=model,\n",
    "        param_distributions=param_grid,\n",
    "        n_iter=20,  # thử 20 tổ hợp ngẫu nhiên\n",
    "        scoring='f1_weighted',\n",
    "        cv=3,\n",
    "        verbose=1,\n",
    "        n_jobs=-1\n",
    "    )\n",
    "\n",
    "    random_search.fit(X_train, y_train, cat_features=categorical_features)\n",
    "    return random_search.best_estimator_, random_search.best_params_\n"
   ]
  },
  {
   "cell_type": "code",
   "execution_count": null,
   "id": "d807f7b4",
   "metadata": {},
   "outputs": [],
   "source": [
    "import pandas as pd\n",
    "from sklearn.model_selection import train_test_split\n",
    "from sklearn.metrics import accuracy_score, f1_score\n",
    "from catboost import CatBoostClassifier\n",
    "from sklearn.model_selection import RandomizedSearchCV\n",
    "\n",
    "# 1. Đọc dữ liệu\n",
    "df = pd.read_csv(r'D:\\MINI_Project\\DoAn3\\perdict_train_XGBoost\\students_grading_dataset_clean.csv')\n",
    "\n",
    "# 2. Loại bỏ các cột không cần thiết\n",
    "df.drop(['Student_ID', 'First_Name', 'Last_Name', 'Email',\n",
    "         'Midterm_Score', 'Final_Score', 'Projects_Score', 'Total_Score'],\n",
    "        axis=1, inplace=True)\n",
    "\n",
    "# 3. Tách X, y\n",
    "X = df.drop('Grade', axis=1)\n",
    "y = df['Grade']\n",
    "\n",
    "# 4. Xác định cột phân loại (categorical)\n",
    "cat_features = X.select_dtypes(include='object').columns.tolist()\n",
    "\n",
    "# 5. Encode label (nếu cần)\n",
    "label_map = {'A': 0, 'B': 1, 'C': 2, 'D': 3}\n",
    "y = y.map(label_map)\n",
    "\n",
    "# 6. Chia tập train/test\n",
    "X_train, X_test, y_train, y_test = train_test_split(\n",
    "    X, y, test_size=0.2, random_state=42, stratify=y\n",
    ")\n",
    "\n",
    "# 7. Thiết lập trọng số (class_weights)\n",
    "# Giá trị lớn hơn → mô hình học kỹ hơn lớp đó\n",
    "#class_weights = [5.0, 1.0, 1.0, 10.0]  # A và D được ưu tiên\n"
   ]
  },
  {
   "cell_type": "markdown",
   "id": "cee45859",
   "metadata": {},
   "source": [
    "## Gọi và huấn luyện mô hình với best params"
   ]
  },
  {
   "cell_type": "code",
   "execution_count": null,
   "id": "01c59a5f",
   "metadata": {},
   "outputs": [
    {
     "name": "stdout",
     "output_type": "stream",
     "text": [
      "Fitting 3 folds for each of 20 candidates, totalling 60 fits\n",
      "=== 📊 Evaluation Report ===\n",
      "              precision    recall  f1-score   support\n",
      "\n",
      "           A       0.00      0.00      0.00        31\n",
      "           B       0.62      0.77      0.69       562\n",
      "           C       0.55      0.42      0.48       399\n",
      "           D       0.00      0.00      0.00         8\n",
      "\n",
      "    accuracy                           0.60      1000\n",
      "   macro avg       0.29      0.30      0.29      1000\n",
      "weighted avg       0.57      0.60      0.58      1000\n",
      "\n",
      "\n",
      "✅ Best Hyperparameters: {'learning_rate': 0.05, 'l2_leaf_reg': 5, 'iterations': 100, 'depth': 6, 'border_count': 128}\n",
      "🎯 Accuracy: 0.6010, F1-score: 0.5775\n"
     ]
    },
    {
     "name": "stderr",
     "output_type": "stream",
     "text": [
      "d:\\MINI_Project\\DoAn3\\venv\\Lib\\site-packages\\sklearn\\metrics\\_classification.py:1565: UndefinedMetricWarning: Precision is ill-defined and being set to 0.0 in labels with no predicted samples. Use `zero_division` parameter to control this behavior.\n",
      "  _warn_prf(average, modifier, f\"{metric.capitalize()} is\", len(result))\n",
      "d:\\MINI_Project\\DoAn3\\venv\\Lib\\site-packages\\sklearn\\metrics\\_classification.py:1565: UndefinedMetricWarning: Precision is ill-defined and being set to 0.0 in labels with no predicted samples. Use `zero_division` parameter to control this behavior.\n",
      "  _warn_prf(average, modifier, f\"{metric.capitalize()} is\", len(result))\n",
      "d:\\MINI_Project\\DoAn3\\venv\\Lib\\site-packages\\sklearn\\metrics\\_classification.py:1565: UndefinedMetricWarning: Precision is ill-defined and being set to 0.0 in labels with no predicted samples. Use `zero_division` parameter to control this behavior.\n",
      "  _warn_prf(average, modifier, f\"{metric.capitalize()} is\", len(result))\n"
     ]
    }
   ],
   "source": [
    "# Tìm mô hình tốt nhất\n",
    "best_model, best_params = randomized_search_catboost(X_train, y_train, cat_features)\n",
    "\n",
    "# Đánh giá mô hình tốt nhất\n",
    "\n",
    "accuracy, f1 = evaluate_model(best_model, X_test, y_test)\n",
    "\n",
    "print(\"\\n✅ Best Hyperparameters:\", best_params)\n",
    "print(f\"🎯 Accuracy: {accuracy:.4f}, F1-score: {f1:.4f}\")\n"
   ]
  },
  {
   "cell_type": "markdown",
   "id": "3a2361a7",
   "metadata": {},
   "source": [
    "## tạo ra cột mới tên là at_risk, dùng để gắn nhãn học sinh có nguy cơ học yếu.\n",
    "\n",
    "## Học sinh nào có Grade là 'C' hoặc 'D' thì được gán nhãn là 1 (có nguy cơ), còn lại là 0."
   ]
  },
  {
   "cell_type": "code",
   "execution_count": 12,
   "id": "1e49872b",
   "metadata": {},
   "outputs": [],
   "source": [
    "import pandas as pd\n",
    "from sklearn.model_selection import train_test_split, RandomizedSearchCV\n",
    "from sklearn.preprocessing import LabelEncoder\n",
    "from sklearn.metrics import accuracy_score, f1_score, classification_report\n",
    "from catboost import CatBoostClassifier\n",
    "\n",
    "# Đọc dữ liệu\n",
    "df = pd.read_csv(r'D:\\MINI_Project\\DoAn3\\perdict_train_XGBoost\\students_grading_dataset_clean.csv')\n",
    "\n",
    "# Loại bỏ các cột không cần thiết\n",
    "df.drop(['Student_ID','First_Name','Last_Name','Email','Midterm_Score',\n",
    "         'Final_Score','Projects_Score','Total_Score'], axis=1, inplace=True)\n",
    "\n",
    "# Tạo nhãn mục tiêu 'at_risk' nếu Grade là C hoặc D\n",
    "df['at_risk'] = df['Grade'].apply(lambda x: 1 if x in ['C', 'D'] else 0)\n",
    "\n",
    "# Xóa cột Grade để tránh rò rỉ dữ liệu\n",
    "df.drop('Grade', axis=1, inplace=True)\n",
    "\n",
    "\n"
   ]
  },
  {
   "cell_type": "code",
   "execution_count": null,
   "id": "670613fb",
   "metadata": {},
   "outputs": [],
   "source": [
    "# === 5. Mã hóa các cột dạng object ===\n",
    "encoders = {}\n",
    "for col in X.select_dtypes(include='object').columns:\n",
    "    le = LabelEncoder()\n",
    "    X[col] = le.fit_transform(X[col])\n",
    "    encoders[col] = le  # lưu lại để dùng cho Streamlit"
   ]
  },
  {
   "cell_type": "code",
   "execution_count": 5,
   "id": "d72a7e9e",
   "metadata": {},
   "outputs": [],
   "source": [
    "# Chia X, y\n",
    "X = df.drop(columns='at_risk')\n",
    "y = df['at_risk']\n",
    "\n",
    "# Mã hóa các cột dạng object nếu có\n",
    "for col in X.select_dtypes(include='object').columns:\n",
    "    X[col] = LabelEncoder().fit_transform(X[col])\n",
    "\n",
    "# Chia tập train/test\n",
    "X_train, X_test, y_train, y_test = train_test_split(\n",
    "    X, y, test_size=0.2, random_state=42, stratify=y\n",
    ")\n"
   ]
  },
  {
   "cell_type": "code",
   "execution_count": 6,
   "id": "fdc19ba1",
   "metadata": {},
   "outputs": [],
   "source": [
    "def evaluate_model(model, X_test, y_test):\n",
    "    y_pred = model.predict(X_test)\n",
    "    acc = accuracy_score(y_test, y_pred)\n",
    "    f1 = f1_score(y_test, y_pred)\n",
    "    print(\"📊 Classification Report:\\n\", classification_report(y_test, y_pred))\n",
    "    print(f\"✅ Accuracy: {acc:.4f} | F1-score: {f1:.4f}\")\n",
    "    return acc, f1\n"
   ]
  },
  {
   "cell_type": "code",
   "execution_count": 7,
   "id": "cb4fd9e9",
   "metadata": {},
   "outputs": [
    {
     "name": "stdout",
     "output_type": "stream",
     "text": [
      "Fitting 3 folds for each of 10 candidates, totalling 30 fits\n",
      "📊 Classification Report:\n",
      "               precision    recall  f1-score   support\n",
      "\n",
      "           0       0.67      0.81      0.74       592\n",
      "           1       0.61      0.43      0.51       408\n",
      "\n",
      "    accuracy                           0.66      1000\n",
      "   macro avg       0.64      0.62      0.62      1000\n",
      "weighted avg       0.65      0.66      0.64      1000\n",
      "\n",
      "✅ Accuracy: 0.6570 | F1-score: 0.5051\n"
     ]
    },
    {
     "data": {
      "text/plain": [
       "(0.657, 0.5050505050505051)"
      ]
     },
     "execution_count": 7,
     "metadata": {},
     "output_type": "execute_result"
    }
   ],
   "source": [
    "# Khởi tạo mô hình CatBoost\n",
    "cat_model = CatBoostClassifier(verbose=0, random_seed=42)\n",
    "\n",
    "# Siêu tham số cần tìm kiếm\n",
    "param_dist = {\n",
    "    'learning_rate': [0.01, 0.05, 0.1],\n",
    "    'depth': [4, 6, 8, 10],\n",
    "    'l2_leaf_reg': [1, 3, 5, 7],\n",
    "    'iterations': [100, 200, 300]\n",
    "}\n",
    "\n",
    "# Tìm kiếm ngẫu nhiên\n",
    "random_search = RandomizedSearchCV(\n",
    "    estimator=cat_model,\n",
    "    param_distributions=param_dist,\n",
    "    n_iter=10,\n",
    "    scoring='f1',\n",
    "    cv=3,\n",
    "    verbose=1,\n",
    "    n_jobs=-1\n",
    ")\n",
    "\n",
    "# Huấn luyện\n",
    "random_search.fit(X_train, y_train)\n",
    "\n",
    "# Đánh giá\n",
    "best_model = random_search.best_estimator_\n",
    "evaluate_model(best_model, X_test, y_test)\n"
   ]
  },
  {
   "cell_type": "code",
   "execution_count": 20,
   "id": "02674318",
   "metadata": {},
   "outputs": [
    {
     "name": "stdout",
     "output_type": "stream",
     "text": [
      "Fitting 3 folds for each of 10 candidates, totalling 30 fits\n",
      "              precision    recall  f1-score   support\n",
      "\n",
      "           0       0.68      0.79      0.73       592\n",
      "           1       0.60      0.45      0.51       408\n",
      "\n",
      "    accuracy                           0.65      1000\n",
      "   macro avg       0.64      0.62      0.62      1000\n",
      "weighted avg       0.65      0.65      0.64      1000\n",
      "\n",
      "Accuracy: 0.65, F1: 0.51\n"
     ]
    }
   ],
   "source": [
    "import pandas as pd\n",
    "import joblib\n",
    "from sklearn.model_selection import train_test_split, RandomizedSearchCV\n",
    "from sklearn.preprocessing import LabelEncoder\n",
    "from sklearn.metrics import accuracy_score, f1_score, classification_report\n",
    "from catboost import CatBoostClassifier\n",
    "\n",
    "# Đọc dữ liệu\n",
    "df = pd.read_csv('students_grading_dataset_clean.csv')\n",
    "\n",
    "# Xóa các cột không cần thiết\n",
    "df.drop(['Student_ID', 'First_Name', 'Last_Name', 'Email',\n",
    "         'Midterm_Score', 'Final_Score', 'Projects_Score', 'Total_Score'], axis=1, inplace=True)\n",
    "\n",
    "# Tạo biến mục tiêu 'at_risk': nếu Grade là C hoặc D thì 1, ngược lại là 0\n",
    "df['at_risk'] = df['Grade'].apply(lambda x: 1 if x in ['C', 'D'] else 0)\n",
    "\n",
    "# Xóa cột Grade để tránh rò rỉ dữ liệu\n",
    "df.drop('Grade', axis=1, inplace=True)\n",
    "\n",
    "# X tách đặc trưng, y là nhãn\n",
    "X = df.drop(columns='at_risk')\n",
    "y = df['at_risk']\n",
    "\n",
    "# Mã hóa nhãn\n",
    "label_encoders = {}\n",
    "class_mappings = {}\n",
    "for col in X.select_dtypes(include='object').columns:\n",
    "    le = LabelEncoder()\n",
    "    X[col] = le.fit_transform(X[col])\n",
    "    label_encoders[col] = le\n",
    "    class_mappings[col] = list(le.classes_)\n",
    "\n",
    "# Lưu lại label_encoders và class_mappings để dùng cho Streamlit\n",
    "joblib.dump(label_encoders, 'label_encoders.pkl')\n",
    "joblib.dump(class_mappings, 'class_mappings.pkl')\n",
    "\n",
    "# Chia train/test\n",
    "X_train, X_test, y_train, y_test = train_test_split(X, y, stratify=y, test_size=0.2, random_state=42)\n",
    "\n",
    "# Khởi tạo mô hình CatBoost\n",
    "model = CatBoostClassifier(verbose=0, random_seed=42)\n",
    "\n",
    "# Siêu tham số\n",
    "params = {\n",
    "    'learning_rate': [0.01, 0.05, 0.1],\n",
    "    'depth': [4, 6, 8, 10],\n",
    "    'l2_leaf_reg': [1, 3, 5, 7],\n",
    "    'iterations': [100, 200, 300]\n",
    "}\n",
    "\n",
    "search = RandomizedSearchCV(model, params, n_iter=10, scoring='f1', cv=3, n_jobs=-1, verbose=1)\n",
    "search.fit(X_train, y_train)\n",
    "\n",
    "# Mô hình tốt nhất\n",
    "best_model = search.best_estimator_\n",
    "joblib.dump(best_model, 'catboost_model.pkl')\n",
    "\n",
    "# Đánh giá\n",
    "y_pred = best_model.predict(X_test)\n",
    "print(classification_report(y_test, y_pred))\n",
    "print(f\"Accuracy: {accuracy_score(y_test, y_pred):.2f}, F1: {f1_score(y_test, y_pred):.2f}\")\n"
   ]
  },
  {
   "cell_type": "code",
   "execution_count": 1,
   "id": "738ef8f5",
   "metadata": {},
   "outputs": [
    {
     "name": "stdout",
     "output_type": "stream",
     "text": [
      "Fitting 3 folds for each of 20 candidates, totalling 60 fits\n",
      "\n",
      "🎯 Best Parameters: {'learning_rate': 0.1, 'l2_leaf_reg': 5, 'iterations': 300, 'depth': 4, 'border_count': 128}\n",
      "✅ Accuracy: 0.597\n",
      "✅ F1 Score (weighted): 0.579\n"
     ]
    }
   ],
   "source": [
    "import pandas as pd\n",
    "from sklearn.model_selection import train_test_split, RandomizedSearchCV\n",
    "from sklearn.metrics import accuracy_score, f1_score\n",
    "from catboost import CatBoostClassifier\n",
    "\n",
    "# 1. Đọc dữ liệu\n",
    "df = pd.read_csv(r'D:\\MINI_Project\\DoAn3\\perdict_train_XGBoost\\students_grading_dataset_clean.csv')\n",
    "\n",
    "# 2. Loại bỏ các cột không cần thiết\n",
    "df.drop(['Student_ID', 'First_Name', 'Last_Name', 'Email',\n",
    "         'Midterm_Score', 'Final_Score', 'Projects_Score', 'Total_Score'],\n",
    "        axis=1, inplace=True)\n",
    "\n",
    "# 3. Tách X, y\n",
    "X = df.drop('Grade', axis=1)\n",
    "y = df['Grade']\n",
    "\n",
    "# 4. Xác định cột phân loại (categorical)\n",
    "cat_features = X.select_dtypes(include='object').columns.tolist()\n",
    "\n",
    "# 5. Encode nhãn đầu ra (grade)\n",
    "label_map = {'A': 0, 'B': 1, 'C': 2, 'D': 3}\n",
    "y = y.map(label_map)\n",
    "\n",
    "# 6. Chuyển đổi biến phân loại sang kiểu chuỗi (bắt buộc với CatBoost)\n",
    "X[cat_features] = X[cat_features].astype(str)\n",
    "\n",
    "# 7. Chia dữ liệu train/test\n",
    "X_train, X_test, y_train, y_test = train_test_split(\n",
    "    X, y, test_size=0.2, random_state=42, stratify=y\n",
    ")\n",
    "\n",
    "# 8. Định nghĩa hàm tìm siêu tham số\n",
    "def randomized_search_catboost(X_train, y_train, categorical_features):\n",
    "    model = CatBoostClassifier(\n",
    "        loss_function='MultiClass',\n",
    "        random_state=42,\n",
    "        verbose=0,\n",
    "        class_weights=[5.0, 1.0, 1.0, 10.0]  # Ưu tiên lớp A và D\n",
    "    )\n",
    "\n",
    "    # Tập hợp siêu tham số\n",
    "    param_grid = {\n",
    "        'iterations': [100, 300, 500],\n",
    "        'learning_rate': [0.01, 0.05, 0.1, 0.2],\n",
    "        'depth': [4, 6, 8, 10],\n",
    "        'l2_leaf_reg': [1, 3, 5, 7],\n",
    "        'border_count': [32, 64, 128]\n",
    "    }\n",
    "\n",
    "    # Tìm kiếm ngẫu nhiên\n",
    "    random_search = RandomizedSearchCV(\n",
    "        estimator=model,\n",
    "        param_distributions=param_grid,\n",
    "        n_iter=20,\n",
    "        scoring='f1_weighted',\n",
    "        cv=3,\n",
    "        verbose=1,\n",
    "        n_jobs=-1\n",
    "    )\n",
    "\n",
    "    # Huấn luyện và truyền cột phân loại\n",
    "    random_search.fit(X_train, y_train, cat_features=categorical_features)\n",
    "    return random_search.best_estimator_, random_search.best_params_\n",
    "\n",
    "# 9. Gọi hàm để tìm mô hình tốt nhất\n",
    "best_model, best_params = randomized_search_catboost(X_train, y_train, cat_features)\n",
    "\n",
    "# 10. Dự đoán và đánh giá mô hình\n",
    "y_pred = best_model.predict(X_test)\n",
    "accuracy = accuracy_score(y_test, y_pred)\n",
    "f1 = f1_score(y_test, y_pred, average='weighted')\n",
    "\n",
    "print(\"\\n🎯 Best Parameters:\", best_params)\n",
    "print(\"✅ Accuracy:\", round(accuracy, 4))\n",
    "print(\"✅ F1 Score (weighted):\", round(f1, 4))\n"
   ]
  },
  {
   "cell_type": "code",
   "execution_count": null,
   "id": "32927f30",
   "metadata": {},
   "outputs": [],
   "source": []
  }
 ],
 "metadata": {
  "kernelspec": {
   "display_name": "venv",
   "language": "python",
   "name": "python3"
  },
  "language_info": {
   "codemirror_mode": {
    "name": "ipython",
    "version": 3
   },
   "file_extension": ".py",
   "mimetype": "text/x-python",
   "name": "python",
   "nbconvert_exporter": "python",
   "pygments_lexer": "ipython3",
   "version": "3.13.5"
  }
 },
 "nbformat": 4,
 "nbformat_minor": 5
}
